{
 "cells": [
  {
   "cell_type": "code",
   "execution_count": 1,
   "metadata": {},
   "outputs": [
    {
     "name": "stdout",
     "output_type": "stream",
     "text": [
      "blue.dat           \u001b[0m\u001b[01;35mdissect_pink.png\u001b[0m  pink.dat   Untitled.ipynb\r\n",
      "\u001b[01;35mdissect_blue.png\u001b[0m   \u001b[01;35mdissect_red.png\u001b[0m   red.dat    \u001b[01;32mvariance.pdf\u001b[0m*\r\n",
      "\u001b[01;35mdissect_green.png\u001b[0m  green.dat         \u001b[01;34msvgfiles\u001b[0m/\r\n"
     ]
    }
   ],
   "source": [
    "ls"
   ]
  },
  {
   "cell_type": "code",
   "execution_count": 2,
   "metadata": {},
   "outputs": [],
   "source": [
    "import matplotlib.pyplot as plt\n",
    "%matplotlib inline\n",
    "import numpy as np"
   ]
  },
  {
   "cell_type": "code",
   "execution_count": 4,
   "metadata": {},
   "outputs": [],
   "source": [
    "files = ['blue.dat','green.dat','pink.dat','green.dat']\n",
    "datas = [np.loadtxt(f) for f in files]\n",
    "colors = ['blue','green','magenta','brown']"
   ]
  },
  {
   "cell_type": "code",
   "execution_count": 6,
   "metadata": {},
   "outputs": [
    {
     "data": {
      "text/plain": [
       "array([[ 25.08554778,  35.82552922,  46.56525959,  57.30423679,\n",
       "         68.04515969,  78.78332096,  89.52618955, 100.173217  ,\n",
       "        110.90999745, 121.6541841 , 132.39184325, 143.13828941],\n",
       "       [ 26.65402844,  37.51972683,  48.73288856,  60.98844032,\n",
       "         70.55115117,  83.93595879,  90.80582875, 105.31982946,\n",
       "        120.61568546, 125.66137287, 139.74110717, 141.65962451]])"
      ]
     },
     "execution_count": 6,
     "metadata": {},
     "output_type": "execute_result"
    }
   ],
   "source": []
  },
  {
   "cell_type": "code",
   "execution_count": 13,
   "metadata": {},
   "outputs": [
    {
     "data": {
      "image/png": "[encoded data removed]",
      "text/plain": [
       "<Figure size 396x144 with 1 Axes>"
      ]
     },
     "metadata": {
      "needs_background": "light"
     },
     "output_type": "display_data"
    }
   ],
   "source": [
    "\n",
    "#set up the figure\n",
    "fig = plt.gcf()\n",
    "fig.set_size_inches(5.5,2)\n",
    "\n",
    "# set up axis labels\n",
    "plt.xlabel(r'$l/z_1$',fontsize=10)\n",
    "plt.ylabel(r'$\\sigma_m$',fontsize=10)\n",
    "\n",
    "# set up the ticks\n",
    "ticks = np.arange(25,175,25)\n",
    "plt.yticks(ticks)\n",
    "plt.xticks(ticks)\n",
    "\n",
    "# make the 1-to-1 line\n",
    "x = np.linspace(0,160,100)\n",
    "plt.plot(x,x,zorder=-1,color='black',linewidth=1)\n",
    "\n",
    "# plot the data\n",
    "for c,d in zip(colors,datas):\n",
    "    x,y = d.T\n",
    "    plt.scatter(x,y,color=c,s=15,zorder=1)\n",
    "\n",
    "plt.xlim(20,155)\n",
    "plt.ylim(20,155)\n",
    "ticks = np.arange(25,175,25)\n",
    "plt.yticks(ticks)\n",
    "plt.xticks(ticks)\n",
    "plt.tight_layout()\n",
    "plt.savefig('newvariance.pdf',dpi=300)\n"
   ]
  },
  {
   "cell_type": "code",
   "execution_count": null,
   "metadata": {},
   "outputs": [],
   "source": []
  }
 ],
 "metadata": {
  "kernelspec": {
   "display_name": "Python 3",
   "language": "python",
   "name": "python3"
  },
  "language_info": {
   "codemirror_mode": {
    "name": "ipython",
    "version": 3
   },
   "file_extension": ".py",
   "mimetype": "text/x-python",
   "name": "python",
   "nbconvert_exporter": "python",
   "pygments_lexer": "ipython3",
   "version": "3.8.5"
  }
 },
 "nbformat": 4,
 "nbformat_minor": 4
}
